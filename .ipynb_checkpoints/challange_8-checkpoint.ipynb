{
 "cells": [
  {
   "cell_type": "markdown",
   "metadata": {},
   "source": [
    "Schreiben Sie eine Funktion, die ihr Argument um 1 erhöht zurückgibt. \n",
    "Es soll gelten: increment (42) = 43\n",
    "Optional soll es auch möglich sein, um mehr als 1 zu erhöhen,\n",
    "d.h. es soll zudem gelten: increment(11, 3) = 14"
   ]
  },
  {
   "cell_type": "code",
   "execution_count": 1,
   "metadata": {},
   "outputs": [
    {
     "name": "stdout",
     "output_type": "stream",
     "text": [
      "43\n",
      "14\n"
     ]
    }
   ],
   "source": [
    "def increment(value, step=1):\n",
    "    return value + step\n",
    "\n",
    "print(increment(42))\n",
    "\n",
    "print(increment(11,3))"
   ]
  },
  {
   "cell_type": "markdown",
   "metadata": {},
   "source": [
    "Schreiben Sie eine Funktion givemefive, die 5 Elemente aus\n",
    "einer Liste ab einem bestimmten Index zurückgibt. \n",
    "Wird kein\n",
    "Index angegeben, sollen die ersten 5 Elemente zurückgegeben\n",
    "werden."
   ]
  },
  {
   "cell_type": "code",
   "execution_count": 4,
   "metadata": {},
   "outputs": [
    {
     "name": "stdout",
     "output_type": "stream",
     "text": [
      "[0, 1, 2, 3, 4]\n",
      "[5, 6, 7, 8, 9]\n"
     ]
    }
   ],
   "source": [
    "def givemefive(list, index=0):\n",
    "    return list[index:index+5]\n",
    "\n",
    "my_list = [i for i in range(20)]\n",
    "\n",
    "print(givemefive(my_list))\n",
    "\n",
    "print(givemefive(my_list, 5))"
   ]
  }
 ],
 "metadata": {
  "kernelspec": {
   "display_name": "Python 3.9.13 64-bit",
   "language": "python",
   "name": "python3"
  },
  "language_info": {
   "codemirror_mode": {
    "name": "ipython",
    "version": 3
   },
   "file_extension": ".py",
   "mimetype": "text/x-python",
   "name": "python",
   "nbconvert_exporter": "python",
   "pygments_lexer": "ipython3",
   "version": "3.9.15"
  },
  "orig_nbformat": 4,
  "vscode": {
   "interpreter": {
    "hash": "949777d72b0d2535278d3dc13498b2535136f6dfe0678499012e853ee9abcab1"
   }
  }
 },
 "nbformat": 4,
 "nbformat_minor": 2
}
