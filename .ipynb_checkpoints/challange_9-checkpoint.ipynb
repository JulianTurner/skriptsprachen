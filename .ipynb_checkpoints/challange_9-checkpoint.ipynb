{
 "cells": [
  {
   "cell_type": "markdown",
   "metadata": {},
   "source": [
    "Erzeuge eine Liste von Funktionen, die Vorschriften x^2, x^3,..,x^18 ausführen"
   ]
  },
  {
   "cell_type": "code",
   "execution_count": 12,
   "metadata": {},
   "outputs": [
    {
     "name": "stdout",
     "output_type": "stream",
     "text": [
      "[4, 16, 64, 256, 1024, 4096, 16384, 65536, 262144]\n",
      "['x^2', 'x^4', 'x^6', 'x^8', 'x^10', 'x^12', 'x^14', 'x^16', 'x^18']\n",
      "x^2 4\n",
      "x^4 16\n",
      "x^6 64\n",
      "x^8 256\n",
      "x^10 1024\n",
      "x^12 4096\n",
      "x^14 16384\n",
      "x^16 65536\n",
      "x^18 262144\n"
     ]
    }
   ],
   "source": [
    "function_list = [lambda x, n=n: x**n for n in range(2,20,2)]\n",
    "\n",
    "print([f(2) for f in function_list])\n",
    "\n",
    "strings = ['x^{}'.format(n) for n in range(2,20,2)]\n",
    "print(strings)\n",
    "\n",
    "for f, s in zip(function_list, strings):\n",
    "    print(s, f(2))\n"
   ]
  }
 ],
 "metadata": {
  "kernelspec": {
   "display_name": "Python 3.9.13 64-bit",
   "language": "python",
   "name": "python3"
  },
  "language_info": {
   "codemirror_mode": {
    "name": "ipython",
    "version": 3
   },
   "file_extension": ".py",
   "mimetype": "text/x-python",
   "name": "python",
   "nbconvert_exporter": "python",
   "pygments_lexer": "ipython3",
   "version": "3.9.15"
  },
  "orig_nbformat": 4,
  "vscode": {
   "interpreter": {
    "hash": "949777d72b0d2535278d3dc13498b2535136f6dfe0678499012e853ee9abcab1"
   }
  }
 },
 "nbformat": 4,
 "nbformat_minor": 2
}
