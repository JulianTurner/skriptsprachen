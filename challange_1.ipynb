{
 "cells": [
  {
   "cell_type": "markdown",
   "metadata": {},
   "source": [
    "Frage nach dem Vornamen und dem Nachnamen und gibt folgendes aus: \"Hallo {Vorname} {Nachname}\""
   ]
  },
  {
   "cell_type": "code",
   "execution_count": 1,
   "metadata": {},
   "outputs": [
    {
     "name": "stdout",
     "output_type": "stream",
     "text": [
      "Hallo Julian Türner\n"
     ]
    }
   ],
   "source": [
    "vorname = input('Vorname:')\n",
    "nachname = input('Nachname')\n",
    "print(f'Hallo {vorname} {nachname}')"
   ]
  },
  {
   "cell_type": "markdown",
   "metadata": {},
   "source": [
    "Gibt von einer Anzahl an Tagen die Stunden, Minuten und Sekunden aus"
   ]
  },
  {
   "cell_type": "code",
   "execution_count": 2,
   "metadata": {},
   "outputs": [
    {
     "name": "stdout",
     "output_type": "stream",
     "text": [
      "Tage 2 hat 48 Stunden oder 2880 Minuten oder 172800 Sekunden.\n"
     ]
    }
   ],
   "source": [
    "tage = int(input('Anzahl Tage:'))\n",
    "stunden = tage * 24\n",
    "mintuen = stunden * 60\n",
    "sekunden = mintuen * 60\n",
    "print(f'Tage {tage} haben {stunden} Stunden oder {mintuen} Minuten oder {sekunden} Sekunden.')"
   ]
  },
  {
   "cell_type": "markdown",
   "metadata": {},
   "source": [
    "Wie oft passt eine Zahl kleiner 10 in eine Zahl größer 100"
   ]
  },
  {
   "cell_type": "code",
   "execution_count": 3,
   "metadata": {},
   "outputs": [
    {
     "name": "stdout",
     "output_type": "stream",
     "text": [
      "5 passt 20x in 100\n"
     ]
    }
   ],
   "source": [
    "kleiner_10 = int(input('Kleiner 10:'))\n",
    "bigger_100 = int(input('Größer 100:'))\n",
    "print(f'{kleiner_10} passt {int(bigger_100/kleiner_10)}x in {bigger_100}')"
   ]
  }
 ],
 "metadata": {
  "kernelspec": {
   "display_name": "Python 3.9.2 64-bit",
   "language": "python",
   "name": "python3"
  },
  "language_info": {
   "codemirror_mode": {
    "name": "ipython",
    "version": 3
   },
   "file_extension": ".py",
   "mimetype": "text/x-python",
   "name": "python",
   "nbconvert_exporter": "python",
   "pygments_lexer": "ipython3",
   "version": "3.9.2"
  },
  "orig_nbformat": 4,
  "vscode": {
   "interpreter": {
    "hash": "31f2aee4e71d21fbe5cf8b01ff0e069b9275f58929596ceb00d14d90e3e16cd6"
   }
  }
 },
 "nbformat": 4,
 "nbformat_minor": 2
}
