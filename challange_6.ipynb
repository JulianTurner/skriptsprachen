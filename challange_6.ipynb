{
 "cells": [
  {
   "cell_type": "markdown",
   "metadata": {},
   "source": [
    "Aus einer Datenbanktabelle erhalten Sie strukturierte Daten zu den Klausurergebnissen.\n",
    "Da es sowohl eine Midterm- als auch eine Endtermklausur gegeben hat, möchten Sie den\n",
    "gleichgewichteten Durchschnitt der erzielten Punkte bilden. \n",
    "\n",
    "Folgendes Datenstruktur erhält die Klausurergebnisse:\n",
    "\n",
    "```python\n",
    "exam_details = [\n",
    "    { 'student_id' : 1, 'midterm' : 70, 'endterm' : 82},\n",
    "    { 'student_id' : 2, 'midterm' : 73, 'endterm' : 74},\n",
    "    { 'student_id' : 3, 'midterm' : 75, 'endterm' : 86}\n",
    "]\n",
    "```\n",
    "\n",
    "Schreiben Sie eine Funktion ``get_averages(list_of_dics)`` die die Elemente ``midterm`` und\n",
    "``endterm`` durch ein Element ``final`` ersetzt und den entsprechenden Durchschnittswert\n",
    "beinhaltet."
   ]
  },
  {
   "cell_type": "code",
   "execution_count": 1,
   "metadata": {},
   "outputs": [
    {
     "data": {
      "text/plain": [
       "[{'student_id': 1, 'final': 76.0},\n",
       " {'student_id': 2, 'final': 73.5},\n",
       " {'student_id': 3, 'final': 80.5}]"
      ]
     },
     "execution_count": 1,
     "metadata": {},
     "output_type": "execute_result"
    }
   ],
   "source": [
    "exam_details= [\n",
    "    { 'student_id' : 1, 'midterm' : 70, 'endterm' : 82},\n",
    "    { 'student_id' : 2, 'midterm' : 73, 'endterm' : 74},\n",
    "    { 'student_id' : 3, 'midterm' : 75, 'endterm' : 86}\n",
    "]\n",
    "\n",
    "def get_averages(list_of_dicts):\n",
    "    for dic in list_of_dicts:\n",
    "        dic[\"final\"] = (dic['midterm'] + dic['endterm']) / 2\n",
    "        del dic['midterm']\n",
    "        del dic['endterm']\n",
    "        \n",
    "\n",
    "get_averages(exam_details)\n",
    "\n",
    "exam_details"
   ]
  }
 ],
 "metadata": {
  "kernelspec": {
   "display_name": "Python 3.9.13 64-bit",
   "language": "python",
   "name": "python3"
  },
  "language_info": {
   "codemirror_mode": {
    "name": "ipython",
    "version": 3
   },
   "file_extension": ".py",
   "mimetype": "text/x-python",
   "name": "python",
   "nbconvert_exporter": "python",
   "pygments_lexer": "ipython3",
   "version": "3.9.15"
  },
  "orig_nbformat": 4,
  "vscode": {
   "interpreter": {
    "hash": "949777d72b0d2535278d3dc13498b2535136f6dfe0678499012e853ee9abcab1"
   }
  }
 },
 "nbformat": 4,
 "nbformat_minor": 2
}
