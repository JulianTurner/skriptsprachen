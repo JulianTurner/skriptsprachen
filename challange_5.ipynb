{
 "cells": [
  {
   "cell_type": "markdown",
   "metadata": {},
   "source": [
    "1. Implementieren Sie eine Funktion nth_elements, \n",
    "\n",
    "die, gegeben einen Iterator it und eine\n",
    "Zahl n, einen neuen Iterator erzeugt, der jedes n-te Element von it zurückliefert.\n",
    "\n",
    "Verwenden Sie\n",
    "- itertools. cycle, zip und eine geeignete generator expression,\n",
    "yield und eine geeignete Schleife.\n",
    "\n",
    "Hinweis: Wäre it eine Liste, dann wäre die Funktion im Wesentlichen äquivalent zu\n",
    "it [ : : n] (das können Sie nebenbei zum Testen Ihrer Lösung verwenden). \n",
    "Allerdings soll it in Ihrer Implemenfierung nicht in eine Liste umgewandelt werden.\n",
    "Weiterhin kann man dasselbe Ergebnis mit itertools islice erreichen. Ihre Lösung soll\n",
    "diese Hilfsfunkfion nicht verwenden. Schlagen Sie jedoch in der Dokumentation islice\n",
    "nach und versuchen Sie in einem zweiten Schritt, es darmit umzusetzen."
   ]
  },
  {
   "cell_type": "markdown",
   "metadata": {},
   "source": [
    "import der tools"
   ]
  },
  {
   "cell_type": "code",
   "execution_count": 12,
   "metadata": {},
   "outputs": [],
   "source": [
    "from itertools import cycle\n",
    "from itertools import islice"
   ]
  },
  {
   "cell_type": "markdown",
   "metadata": {},
   "source": [
    "1. Implementieren Sie eine Funktion nth_elements mit einer while Schleife"
   ]
  },
  {
   "cell_type": "code",
   "execution_count": 13,
   "metadata": {},
   "outputs": [],
   "source": [
    "def nth_elements_while(it, n_Element):\n",
    "    for k, x in enumerate(it):\n",
    "        if k % n_Element == 0:\n",
    "            yield x"
   ]
  },
  {
   "cell_type": "markdown",
   "metadata": {},
   "source": [
    "1. Implementieren Sie eine Funktion nth_elements mit itertools"
   ]
  },
  {
   "cell_type": "code",
   "execution_count": 14,
   "metadata": {},
   "outputs": [],
   "source": [
    "def nth_elements_cycle(it, n):\n",
    "    cyc = cycle(range(n))\n",
    "    return(elem for k, elem in zip(cyc, it) if k == 0)"
   ]
  },
  {
   "cell_type": "code",
   "execution_count": 15,
   "metadata": {},
   "outputs": [],
   "source": [
    "def nth_elements_islice(it, n):\n",
    "    return islice(it, 0, None, n)"
   ]
  },
  {
   "cell_type": "code",
   "execution_count": 16,
   "metadata": {},
   "outputs": [
    {
     "name": "stdout",
     "output_type": "stream",
     "text": [
      "[0, 3, 6, 9, 12, 15, 18]\n",
      "[0, 3, 6, 9, 12, 15, 18]\n",
      "[0, 3, 6, 9, 12, 15, 18]\n"
     ]
    }
   ],
   "source": [
    "while_gen = nth_elements_while(range(20), 3)\n",
    "liste = list(while_gen)\n",
    "print(liste)\n",
    "\n",
    "cycle_gen = nth_elements_cycle(range(20), 3)\n",
    "liste2 = list(cycle_gen)\n",
    "print(liste2)\n",
    "\n",
    "\n",
    "slice_gen = nth_elements_islice(range(20), 3)\n",
    "liste3 = list(slice_gen)\n",
    "print(liste3)\n"
   ]
  }
 ],
 "metadata": {
  "kernelspec": {
   "display_name": "Python 3.9.13 64-bit",
   "language": "python",
   "name": "python3"
  },
  "language_info": {
   "codemirror_mode": {
    "name": "ipython",
    "version": 3
   },
   "file_extension": ".py",
   "mimetype": "text/x-python",
   "name": "python",
   "nbconvert_exporter": "python",
   "pygments_lexer": "ipython3",
   "version": "3.9.15"
  },
  "orig_nbformat": 4,
  "vscode": {
   "interpreter": {
    "hash": "949777d72b0d2535278d3dc13498b2535136f6dfe0678499012e853ee9abcab1"
   }
  }
 },
 "nbformat": 4,
 "nbformat_minor": 2
}
