{
 "cells": [
  {
   "cell_type": "markdown",
   "metadata": {},
   "source": [
    "Pig Latin ist eine Spielsprache, die im englischen Sprachraum von Kindern (als \"Geheimsprache\") verwendet wird. \n",
    "\n",
    "Man nimmt den ersten Konsonanten* eines Wortes,verschiebt ihn an das Wortende und fügt ein \"ay\" hinzu. \n",
    "\n",
    "Wenn ein Wort mit einem Vokal beginnt, fügt man einfach ein \"way\" an das Ende an. \n",
    "Zum Beispiel Wird pig zu igpay, banana zu ananabay und aadvark zu aadvarkway. \n",
    "\n",
    "Erstellen Sie ein Programm, das den Benutzer auffordert, ein Wort einzugeben und es in Pig Latin zu ändern.\n",
    "Stellen Sie sicher, dass das neue Wort in Kleinbuchstaben angezeigt wird."
   ]
  },
  {
   "cell_type": "code",
   "execution_count": 29,
   "metadata": {},
   "outputs": [
    {
     "name": "stdout",
     "output_type": "stream",
     "text": [
      "pig => igpay\n",
      "banana => ananabay\n",
      "aadvark => aadvarkway\n"
     ]
    }
   ],
   "source": [
    "konsonanten = ('b', 'c', 'd', 'f', 'g', 'h', 'j', 'k', 'l', 'm', 'n', 'p', 'q', 'r', 's', 't', 'v', 'w', 'x', 'y', 'z')\n",
    "\n",
    "def geheimsprache(w):\n",
    "\n",
    "\t# checken ob das Wort mit einem Konsonaten beginnt\n",
    "\tif(w.lower().startswith(konsonanten)):\n",
    "\t\tfirstletter = w[0].lower()\n",
    "\t\treturn(f'{w[1:]}{firstletter}ay')\n",
    "\telse:\n",
    "\t\treturn(f'{w.lower()}way')\n",
    "\n",
    "print(f\"pig => {geheimsprache('Pig')}\")\n",
    "print(f\"banana => {geheimsprache('banana')}\")\n",
    "print(f\"aadvark => {geheimsprache('aadvark')}\")\n",
    "\n",
    "\n",
    "\n"
   ]
  }
 ],
 "metadata": {
  "kernelspec": {
   "display_name": "Python 3.9.13 64-bit",
   "language": "python",
   "name": "python3"
  },
  "language_info": {
   "codemirror_mode": {
    "name": "ipython",
    "version": 3
   },
   "file_extension": ".py",
   "mimetype": "text/x-python",
   "name": "python",
   "nbconvert_exporter": "python",
   "pygments_lexer": "ipython3",
   "version": "3.9.13"
  },
  "orig_nbformat": 4,
  "vscode": {
   "interpreter": {
    "hash": "949777d72b0d2535278d3dc13498b2535136f6dfe0678499012e853ee9abcab1"
   }
  }
 },
 "nbformat": 4,
 "nbformat_minor": 2
}
