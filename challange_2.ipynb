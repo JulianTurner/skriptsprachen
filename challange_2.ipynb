{
 "cells": [
  {
   "cell_type": "markdown",
   "metadata": {},
   "source": [
    "Frage nach Zahl, wenn > 10 \"zu klein\" wenn zwischen 10 und 20 \"in Ordnung\", ansonsten \"zu Hoch\""
   ]
  },
  {
   "cell_type": "code",
   "execution_count": 2,
   "metadata": {},
   "outputs": [
    {
     "name": "stdout",
     "output_type": "stream",
     "text": [
      "In Ordnung\n"
     ]
    }
   ],
   "source": [
    "zahl = int(input('Zahl:'))\n",
    "if(zahl < 10):\n",
    "\tprint('Zu klein')\n",
    "elif(zahl in range(10,21)):\n",
    "\tprint('In Ordnung')\n",
    "else:\n",
    "\t(print('Zu Hoch'))"
   ]
  },
  {
   "cell_type": "markdown",
   "metadata": {},
   "source": [
    "Eingabe von Zahl und Name, den Zahl x Namen ausgeben "
   ]
  },
  {
   "cell_type": "code",
   "execution_count": 3,
   "metadata": {},
   "outputs": [
    {
     "name": "stdout",
     "output_type": "stream",
     "text": [
      "Julian\n",
      "Julian\n",
      "Julian\n"
     ]
    }
   ],
   "source": [
    "anzahl = int(input('Anzahl:'))\n",
    "name = input('Name:')\n",
    "\n",
    "for _ in range(anzahl):\n",
    "\tprint(name)"
   ]
  },
  {
   "cell_type": "markdown",
   "metadata": {},
   "source": [
    "Erraten einer Zufallszahl"
   ]
  },
  {
   "cell_type": "code",
   "execution_count": 7,
   "metadata": {},
   "outputs": [
    {
     "name": "stdout",
     "output_type": "stream",
     "text": [
      "Zu erratende Zahl: 1\n",
      "Zahl zu groß\n",
      "Zahl ist zu klein\n",
      "Richtige Zahl in 3 Versuchen\n"
     ]
    }
   ],
   "source": [
    "from itertools import count\n",
    "import random\n",
    "random_number = random.randint(1,50)\n",
    "print(f'Zu erratende Zahl: {random_number}')\n",
    "user_number = int(input('Zahl:'))\n",
    "count = 1\n",
    "\n",
    "while random_number != user_number:\n",
    "\tcount = count + 1\n",
    "\tif(user_number > random_number):\n",
    "\t\tprint('Zahl zu groß')\t\t\n",
    "\tif(user_number < random_number):\n",
    "\t\tprint('Zahl ist zu klein')\n",
    "\tuser_number = int(input('Zahl:'))\n",
    "\n",
    "print(f'Richtige Zahl in {count} Versuchen')\n",
    "\n"
   ]
  }
 ],
 "metadata": {
  "kernelspec": {
   "display_name": "Python 3.9.13 64-bit",
   "language": "python",
   "name": "python3"
  },
  "language_info": {
   "codemirror_mode": {
    "name": "ipython",
    "version": 3
   },
   "file_extension": ".py",
   "mimetype": "text/x-python",
   "name": "python",
   "nbconvert_exporter": "python",
   "pygments_lexer": "ipython3",
   "version": "3.9.16 (main, Dec  8 2022, 02:40:11) \n[GCC 10.2.1 20210110]"
  },
  "orig_nbformat": 4,
  "vscode": {
   "interpreter": {
    "hash": "949777d72b0d2535278d3dc13498b2535136f6dfe0678499012e853ee9abcab1"
   }
  }
 },
 "nbformat": 4,
 "nbformat_minor": 2
}
