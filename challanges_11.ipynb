{
 "cells": [
  {
   "cell_type": "markdown",
   "metadata": {},
   "source": [
    "Wir betrachten eine typische Dateistruktur der Form\n",
    "\n",
    "```python\n",
    "{\n",
    "    'documents' : \n",
    "        {\n",
    "            'diss.docx' : 3, \n",
    "            'skripte' :\n",
    "                {\n",
    "                    'matheskript.pdf' : 15, \n",
    "                    'pythontutorial.pdf' :22\n",
    "                }\n",
    "            }, \n",
    "    'selfie.jpg' : 100\n",
    "}\n",
    "```\n",
    "\n",
    "und somit ein Dictionary, dessen values entweder Zahlen oder wiederum Dictionaries sein können.\n",
    "Schreiben Sie eine Funktion disk_usage, die die Summe aller Zahlen-Werte ermittelt. Gestalten Sie sie\n",
    "so, dass sie für ein beliebig tief verschachteltes Dictionary verwendbar ist."
   ]
  },
  {
   "cell_type": "code",
   "execution_count": 31,
   "metadata": {},
   "outputs": [
    {
     "name": "stdout",
     "output_type": "stream",
     "text": [
      "140\n"
     ]
    }
   ],
   "source": [
    "\n",
    "def disk_usage(dict):\n",
    "    filesum = 0\n",
    "    for i in dict.values():\n",
    "        # check if number\n",
    "        if (isinstance(i, int)):\n",
    "            # if number add to filesum\n",
    "            filesum += i\n",
    "        else:\n",
    "            # if not a number recurse with filesum\n",
    "            filesum += disk_usage(i)\n",
    "    # return filesum\n",
    "    return filesum\n",
    "\n",
    "\n",
    "files = {\n",
    "    'documents' :{\n",
    "            'diss.docx' : 3, \n",
    "            'skripte' : {\n",
    "                        'matheskript.pdf' : 15, \n",
    "                        'pythontutorial.pdf' :22\n",
    "                    }\n",
    "            }, \n",
    "    'selfie.jpg' : 100\n",
    "}\n",
    "\n",
    "print(disk_usage(files))"
   ]
  },
  {
   "cell_type": "markdown",
   "metadata": {},
   "source": [
    "In der Veranstaltung haben wir das Modul ``timeit`` kurz kennengelernt, um damit die\n",
    "Ausführungszeit zu messen. Eine einfachere, aber oft ausreichende Variante ist das Modul\n",
    "``time``. Schreiben Sie mithilfe des Moduls ``time`` einen Dekorator der bei Funktionsaufruf ausgibt,\n",
    "wie lange das Ausführen einer Funktion dauert. Lesen Sie sich dazu die Modulbeschreibung\n",
    "von ``time`` durch."
   ]
  },
  {
   "cell_type": "code",
   "execution_count": 43,
   "metadata": {},
   "outputs": [
    {
     "name": "stdout",
     "output_type": "stream",
     "text": [
      "start: 9115483726655, stop: 9115483732070, duration: 5415\n"
     ]
    }
   ],
   "source": [
    "import time\n",
    "\n",
    "def meassure(func):\n",
    "    def timed_function(*args):\n",
    "        start = time.perf_counter_ns()\n",
    "        func(*args)\n",
    "        stop = time.perf_counter_ns()\n",
    "        print(f'start: {start}, stop: {stop}, duration: {stop-start}')\n",
    "\n",
    "    return timed_function\n",
    "\n",
    "@meassure\n",
    "def timed_disk_usage():\n",
    "    disk_usage(files)\n",
    "\n",
    "timed_disk_usage()"
   ]
  },
  {
   "cell_type": "markdown",
   "metadata": {},
   "source": [
    "Schreiben Sie eine rekursive Funktion, die aus gegebenen x und n e N die Potenz xn berechnet.\n",
    "Verwenden Sie dazu die Rekursion\n",
    "\n",
    "Hinweis: Die Funktion soll natürlich im Prinzip ohne Verwendung des **-Operators implementiert\n",
    "werden. \n",
    "Für die Quadrate können Sie aber der Einfachheit halber (...)**2 verwenden.\n",
    "b) Schreiben Sie nun eine iterative Variante davon. \n",
    "Dabei darf die simpelste Lösung (einfach n mal mit x multiplizieren) nicht benutzt werden."
   ]
  },
  {
   "cell_type": "code",
   "execution_count": 44,
   "metadata": {},
   "outputs": [
    {
     "name": "stdout",
     "output_type": "stream",
     "text": [
      "1024\n"
     ]
    }
   ],
   "source": [
    "def calculate(base, exponent):\n",
    "    return base ** exponent\n",
    "\n",
    "\n",
    "print(calculate(2,10)) #1024"
   ]
  }
 ],
 "metadata": {
  "kernelspec": {
   "display_name": "Python 3.9.15 64-bit",
   "language": "python",
   "name": "python3"
  },
  "language_info": {
   "codemirror_mode": {
    "name": "ipython",
    "version": 3
   },
   "file_extension": ".py",
   "mimetype": "text/x-python",
   "name": "python",
   "nbconvert_exporter": "python",
   "pygments_lexer": "ipython3",
   "version": "3.9.15"
  },
  "orig_nbformat": 4,
  "vscode": {
   "interpreter": {
    "hash": "949777d72b0d2535278d3dc13498b2535136f6dfe0678499012e853ee9abcab1"
   }
  }
 },
 "nbformat": 4,
 "nbformat_minor": 2
}
