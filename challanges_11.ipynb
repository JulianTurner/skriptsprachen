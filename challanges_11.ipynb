{
 "cells": [
  {
   "cell_type": "markdown",
   "metadata": {},
   "source": [
    "Wir betrachten eine typische Dateistruktur der Form\n",
    "\n",
    "```python\n",
    "{\n",
    "    'documents' : \n",
    "        {\n",
    "            'diss.docx' : 3, \n",
    "            'skripte' :\n",
    "                {\n",
    "                    'matheskript.pdf' : 15, \n",
    "                    'pythontutorial.pdf' :22\n",
    "                }\n",
    "            }, \n",
    "    'selfie.jpg' : 100\n",
    "}\n",
    "```\n",
    "\n",
    "und somit ein Dictionary, dessen values entweder Zahlen oder wiederum Dictionaries sein können.\n",
    "Schreiben Sie eine Funktion disk_usage, die die Summe aller Zahlen-Werte ermittelt. Gestalten Sie sie\n",
    "so, dass sie für ein beliebig tief verschachteltes Dictionary verwendbar ist."
   ]
  },
  {
   "cell_type": "code",
   "execution_count": 4,
   "metadata": {},
   "outputs": [
    {
     "name": "stdout",
     "output_type": "stream",
     "text": [
      "140\n"
     ]
    }
   ],
   "source": [
    "\n",
    "def disk_usage_deep(dict):\n",
    "    filesum = 0\n",
    "    for i in dict.values():\n",
    "        # check if number\n",
    "        if (isinstance(i, int)):\n",
    "            # if number add to filesum\n",
    "            filesum += i\n",
    "        else:\n",
    "            # if not a number recurse with filesum\n",
    "            filesum += disk_usage_deep(i)\n",
    "    # return filesum\n",
    "    return filesum\n",
    "\n",
    "\n",
    "files = {\n",
    "    'documents' :{\n",
    "            'diss.docx' : 3, \n",
    "            'skripte' : {\n",
    "                        'matheskript.pdf' : 15, \n",
    "                        'pythontutorial.pdf' :22\n",
    "                    }\n",
    "            }, \n",
    "    'selfie.jpg' : 100\n",
    "}\n",
    "\n",
    "print(disk_usage_deep(files))"
   ]
  },
  {
   "cell_type": "code",
   "execution_count": 11,
   "metadata": {},
   "outputs": [
    {
     "name": "stdout",
     "output_type": "stream",
     "text": [
      "140\n"
     ]
    }
   ],
   "source": [
    "def disk_usage_breadth(dict):\n",
    "    def bfs_helper(current_filesum, next_layer):\n",
    "        build_layer = []\n",
    "        for folder in next_layer:\n",
    "            for element in folder:\n",
    "                if isinstance(element, int):\n",
    "                    current_filesum += element\n",
    "                else:\n",
    "                    build_layer.append(element.values())\n",
    "\n",
    "        if len(build_layer) > 0:\n",
    "            return bfs_helper(current_filesum, build_layer)\n",
    "\n",
    "        return current_filesum\n",
    "\n",
    "    return bfs_helper(0, [dict.values()])\n",
    "\n",
    "print(disk_usage_breadth(files))"
   ]
  },
  {
   "cell_type": "markdown",
   "metadata": {},
   "source": [
    "In der Veranstaltung haben wir das Modul ``timeit`` kurz kennengelernt, um damit die\n",
    "Ausführungszeit zu messen. Eine einfachere, aber oft ausreichende Variante ist das Modul\n",
    "``time``. Schreiben Sie mithilfe des Moduls ``time`` einen Dekorator der bei Funktionsaufruf ausgibt,\n",
    "wie lange das Ausführen einer Funktion dauert. Lesen Sie sich dazu die Modulbeschreibung\n",
    "von ``time`` durch."
   ]
  },
  {
   "cell_type": "code",
   "execution_count": 15,
   "metadata": {},
   "outputs": [
    {
     "name": "stdout",
     "output_type": "stream",
     "text": [
      "start: 9237380669413, stop: 9237381703486, duration: 1034073\n"
     ]
    }
   ],
   "source": [
    "import time\n",
    "\n",
    "def meassure(func):\n",
    "    def timed_function(*args):\n",
    "        start = time.perf_counter_ns()\n",
    "        func(*args)\n",
    "        stop = time.perf_counter_ns()\n",
    "        print(f'start: {start}, stop: {stop}, duration: {stop-start}')\n",
    "\n",
    "    return timed_function\n",
    "\n",
    "@meassure\n",
    "def timed_disk_usage():\n",
    "    disk_usage_deep(files)\n",
    "\n",
    "timed_disk_usage()"
   ]
  },
  {
   "cell_type": "markdown",
   "metadata": {},
   "source": [
    "Schreiben Sie eine rekursive Funktion, die aus gegebenen x und n e N die Potenz xn berechnet.\n",
    "Verwenden Sie dazu die Rekursion\n",
    "\n",
    "Hinweis: Die Funktion soll natürlich im Prinzip ohne Verwendung des **-Operators implementiert\n",
    "werden. \n",
    "Für die Quadrate können Sie aber der Einfachheit halber (...)**2 verwenden.\n",
    "b) Schreiben Sie nun eine iterative Variante davon. \n",
    "Dabei darf die simpelste Lösung (einfach n mal mit x multiplizieren) nicht benutzt werden."
   ]
  },
  {
   "cell_type": "code",
   "execution_count": 14,
   "metadata": {},
   "outputs": [
    {
     "name": "stdout",
     "output_type": "stream",
     "text": [
      "4096\n"
     ]
    }
   ],
   "source": [
    "def calculate(base, exponent):\n",
    "    # exit condition\n",
    "    if exponent == 0:\n",
    "        return 1\n",
    "    # gerader exponent\n",
    "    if exponent % 2 == 0:\n",
    "        return calculate(base, exponent/2)**2\n",
    "    # ungerader exponent\n",
    "    else:\n",
    "        return base*(calculate(base, (exponent-1)/2)**2)\n",
    "\n",
    "\n",
    "#print(calculate(2,10)) #1024\n",
    "print(calculate(4,6))"
   ]
  },
  {
   "cell_type": "markdown",
   "metadata": {},
   "source": [
    "Schreiben Sie einen Dekorator für die Funktion aus Aufgabe C23, der die Rekursionstiefe zählt und bei\n",
    "jedem Aufruf ausgibt. \n",
    "\n",
    "Hinweis: \n",
    "Jede Funktion, die dekoriert wird, braucht einen eigenen Rekursions-Zähler. \n",
    "Eine Möglichkeit ist das Erzeugen einer solchen Variable im Scope des Decorators, so dass bei\n",
    "jedem Verwenden des Decorators ein neuer Zähler erzeugt wird."
   ]
  },
  {
   "cell_type": "code",
   "execution_count": 16,
   "metadata": {},
   "outputs": [
    {
     "name": "stdout",
     "output_type": "stream",
     "text": [
      "1\n",
      "2\n",
      "3\n",
      "4\n",
      "5\n",
      "68719476736\n"
     ]
    }
   ],
   "source": [
    "def count_recursion(func):\n",
    "    count = 0\n",
    "    def counter(*args):\n",
    "        nonlocal count\n",
    "        count += 1\n",
    "        print(count)\n",
    "        return func(*args)\n",
    "    \n",
    "    return counter\n",
    "\n",
    "@count_recursion\n",
    "def calculate(base, exponent):\n",
    "    # exit condition\n",
    "    if exponent == 0:\n",
    "        return 1\n",
    "    # gerader exponent\n",
    "    if exponent % 2 == 0:\n",
    "        return calculate(base, exponent/2)**2\n",
    "    # ungerader exponent\n",
    "    else:\n",
    "        return base*(calculate(base, (exponent-1)/2)**2)\n",
    "print(calculate(8,12))\n"
   ]
  }
 ],
 "metadata": {
  "kernelspec": {
   "display_name": "Python 3.9.15 64-bit",
   "language": "python",
   "name": "python3"
  },
  "language_info": {
   "codemirror_mode": {
    "name": "ipython",
    "version": 3
   },
   "file_extension": ".py",
   "mimetype": "text/x-python",
   "name": "python",
   "nbconvert_exporter": "python",
   "pygments_lexer": "ipython3",
   "version": "3.9.15"
  },
  "orig_nbformat": 4,
  "vscode": {
   "interpreter": {
    "hash": "949777d72b0d2535278d3dc13498b2535136f6dfe0678499012e853ee9abcab1"
   }
  }
 },
 "nbformat": 4,
 "nbformat_minor": 2
}
