{
 "cells": [
  {
   "attachments": {},
   "cell_type": "markdown",
   "metadata": {},
   "source": [
    "Schreiben Sie ein Programm, das eine String-Ersetzung durchführt und dabei die Großkleinschreibung nicht beachtet (case insensitive). \n",
    "Das Wort eine soll durch das Wort DIE ersetzt werden:\n",
    "Eine Katze hat einen schwanz, eine maus ebenso."
   ]
  },
  {
   "cell_type": "code",
   "execution_count": 1,
   "metadata": {},
   "outputs": [],
   "source": [
    "import re"
   ]
  },
  {
   "cell_type": "code",
   "execution_count": 10,
   "metadata": {},
   "outputs": [
    {
     "name": "stdout",
     "output_type": "stream",
     "text": [
      "DIE Katze hat einen schwanz, DIE Maus ebenso.\n"
     ]
    }
   ],
   "source": [
    "_str = \"Eine Katze hat einen schwanz, eine Maus ebenso.\"\n",
    "\n",
    "line = re.sub(r\"\\beine\\b\", \"DIE\", _str, flags=re.IGNORECASE)\n",
    "print(line)"
   ]
  },
  {
   "attachments": {},
   "cell_type": "markdown",
   "metadata": {},
   "source": [
    "Schreiben Sie ein Programm, das in\n",
    "einem String sämtliche Werte\n",
    "zwischen zwei doppelten\n",
    "Anführungszeichen in eine Liste\n",
    "extrahiert und wiedergibt:\n",
    "\"Python\", \"PHP\", \"Javascript\", \"C++\", \"Java\""
   ]
  },
  {
   "cell_type": "code",
   "execution_count": 12,
   "metadata": {},
   "outputs": [
    {
     "name": "stdout",
     "output_type": "stream",
     "text": [
      "['Python', 'PHP', 'Javascript', 'C++', 'Java']\n"
     ]
    }
   ],
   "source": [
    "\n",
    "_str = '\"Python\", \"PHP\", \"Javascript\", \"C++\", \"Java\"'\n",
    "\n",
    "print(re.findall(r'\"(.*?)\"', _str))"
   ]
  },
  {
   "cell_type": "code",
   "execution_count": null,
   "metadata": {},
   "outputs": [],
   "source": []
  }
 ],
 "metadata": {
  "kernelspec": {
   "display_name": "Python 3",
   "language": "python",
   "name": "python3"
  },
  "language_info": {
   "codemirror_mode": {
    "name": "ipython",
    "version": 3
   },
   "file_extension": ".py",
   "mimetype": "text/x-python",
   "name": "python",
   "nbconvert_exporter": "python",
   "pygments_lexer": "ipython3",
   "version": "3.9.15 (main, Oct 26 2022, 03:47:43) \n[GCC 10.2.1 20210110]"
  },
  "orig_nbformat": 4,
  "vscode": {
   "interpreter": {
    "hash": "949777d72b0d2535278d3dc13498b2535136f6dfe0678499012e853ee9abcab1"
   }
  }
 },
 "nbformat": 4,
 "nbformat_minor": 2
}
