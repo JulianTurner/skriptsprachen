{
 "cells": [
  {
   "cell_type": "markdown",
   "metadata": {},
   "source": [
    "Gegeben sei folgende Liste:\n",
    "alphabet = ['a','b','c','c','d','e','e']\n",
    "\n",
    "1. Entfernen Sie eines der doppelten 'c' von der Liste,\n",
    "2. prüfen Sie dann, ob 'f' in der Liste enthalten ist. \n",
    "3. Fügen Sie anschließend 'f' geeignet hinzu. \n",
    "4. Falls notwendig,enffernen Sie das doppelte 'e' \n",
    "5. weisen Sie die ersten beiden Einträge der Liste den\n",
    "Variablen a und b zu (mit 1 Anweisung)."
   ]
  },
  {
   "cell_type": "code",
   "execution_count": 12,
   "metadata": {},
   "outputs": [],
   "source": [
    "alphabet = ['a','b','c','c','d','e','e']\n",
    "\n",
    "#1\n",
    "alphabet.remove('c')\n",
    "\n",
    "#2\n",
    "isFinAlphabet = 'f' in alphabet\n",
    "\t\n",
    "#4\n",
    "alphabet.pop()\n",
    "\n",
    "#3\n",
    "alphabet.append('f')\n",
    "\n",
    "a = alphabet[0]\n",
    "b = alphabet[1]"
   ]
  },
  {
   "cell_type": "markdown",
   "metadata": {},
   "source": [
    "Bestimmen Sie die Menge der\n",
    "natürlichen Zahlen unter 1000,\n",
    "die 2, 3 und 7 als Teiler besitzen.\n",
    "Das Ergebnis soll in Form einer\n",
    "Liste vorliegen, die mittels List\n",
    "Comprehension erstellt wurde."
   ]
  },
  {
   "cell_type": "code",
   "execution_count": 13,
   "metadata": {},
   "outputs": [],
   "source": [
    "zahlen = [x for x in range(1000) if x % 2 == 0 and x % 3 == 0 and x % 7 == 0]"
   ]
  },
  {
   "cell_type": "markdown",
   "metadata": {},
   "source": [
    "Gegeben sei die Wortfolge\n",
    "words = \"I tried so hard and got so far\"\n",
    "\n",
    "Finden Sie alle Wörter mit weniger als 4 Buchstaben und schreiben Sie sie in\n",
    "eine Liste."
   ]
  },
  {
   "cell_type": "code",
   "execution_count": 14,
   "metadata": {},
   "outputs": [],
   "source": [
    "words = \"I tried so hard and got so far\"\n",
    "\n",
    "shortWords = [word for word in words.split(' ') if word.__len__() < 4]"
   ]
  }
 ],
 "metadata": {
  "kernelspec": {
   "display_name": "Python 3.9.13 64-bit",
   "language": "python",
   "name": "python3"
  },
  "language_info": {
   "codemirror_mode": {
    "name": "ipython",
    "version": 3
   },
   "file_extension": ".py",
   "mimetype": "text/x-python",
   "name": "python",
   "nbconvert_exporter": "python",
   "pygments_lexer": "ipython3",
   "version": "3.9.13"
  },
  "orig_nbformat": 4,
  "vscode": {
   "interpreter": {
    "hash": "949777d72b0d2535278d3dc13498b2535136f6dfe0678499012e853ee9abcab1"
   }
  }
 },
 "nbformat": 4,
 "nbformat_minor": 2
}
