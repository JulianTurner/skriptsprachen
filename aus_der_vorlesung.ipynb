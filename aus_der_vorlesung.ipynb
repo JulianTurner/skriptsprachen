{
 "cells": [
  {
   "cell_type": "markdown",
   "metadata": {},
   "source": [
    "S. 65"
   ]
  },
  {
   "cell_type": "code",
   "execution_count": 3,
   "metadata": {},
   "outputs": [
    {
     "name": "stdout",
     "output_type": "stream",
     "text": [
      "1012\n",
      "<class 'str'>\n"
     ]
    }
   ],
   "source": [
    "value = input('Geben Sie eine Zahl ein:')\n",
    "other = input( 'Und nun eine weitere:')\n",
    "print(value + other)\n",
    "print(type(value))\n"
   ]
  },
  {
   "cell_type": "markdown",
   "metadata": {},
   "source": [
    "Werte (str) werden Verkettet.\n",
    "Stark Typisiert"
   ]
  },
  {
   "cell_type": "code",
   "execution_count": 4,
   "metadata": {},
   "outputs": [
    {
     "name": "stdout",
     "output_type": "stream",
     "text": [
      "22\n",
      "<class 'int'>\n"
     ]
    }
   ],
   "source": [
    "value = int(input('Geben Sie eine Zahl ein:'))\n",
    "other = int(input( 'Und nun eine weitere:'))\n",
    "print(value + other)\n",
    "print(type(value))"
   ]
  },
  {
   "cell_type": "markdown",
   "metadata": {},
   "source": [
    "Werte (int) werden addiert.\n",
    "Stark Typisiert"
   ]
  },
  {
   "cell_type": "markdown",
   "metadata": {},
   "source": [
    "Teil 2"
   ]
  },
  {
   "cell_type": "markdown",
   "metadata": {},
   "source": [
    "Bitweise Negation"
   ]
  },
  {
   "cell_type": "code",
   "execution_count": 3,
   "metadata": {},
   "outputs": [
    {
     "name": "stdout",
     "output_type": "stream",
     "text": [
      "-8\n"
     ]
    }
   ],
   "source": [
    "x = -7\n",
    "print(~x)"
   ]
  },
  {
   "cell_type": "markdown",
   "metadata": {},
   "source": [
    "Variablentauschen"
   ]
  },
  {
   "cell_type": "code",
   "execution_count": 12,
   "metadata": {},
   "outputs": [
    {
     "name": "stdout",
     "output_type": "stream",
     "text": [
      "x:  5\n",
      "y:  3\n"
     ]
    }
   ],
   "source": [
    "x = 3\n",
    "y = 5\n",
    "\n",
    "x, y = y, x\n",
    "print('x: ', x)\n",
    "print('y: ', y)\n"
   ]
  },
  {
   "cell_type": "markdown",
   "metadata": {},
   "source": [
    "Gleitkommazahlen"
   ]
  },
  {
   "cell_type": "code",
   "execution_count": 16,
   "metadata": {},
   "outputs": [
    {
     "name": "stdout",
     "output_type": "stream",
     "text": [
      "30000.0\n",
      "inf\n",
      "True\n",
      "True\n",
      "nan\n",
      "5.551115123125783e-17\n",
      "(0.75, 2)\n"
     ]
    }
   ],
   "source": [
    "print(3e4)\n",
    "print(3e888)\n",
    "print(3e888 > 12)\n",
    "print(3e888 == 3e999)\n",
    "print(3e999 / 3e888)\n",
    "print(0.1 + 0.1 + 0.1 -0.3)\n",
    "\n",
    "import math\n",
    "print(math.frexp(3))"
   ]
  },
  {
   "cell_type": "code",
   "execution_count": 1,
   "metadata": {},
   "outputs": [
    {
     "data": {
      "text/plain": [
       "0"
      ]
     },
     "execution_count": 1,
     "metadata": {},
     "output_type": "execute_result"
    }
   ],
   "source": [
    "def doubler(f):\n",
    "    def g(x):\n",
    "        return 2 * f(x)\n",
    "    return g\n",
    "\n",
    "\n",
    "def f1(x):\n",
    "    return x + 1\n",
    "\n",
    "\n",
    "g = doubler(f1)\n",
    "\n",
    "g(3)\n",
    "g(-1)"
   ]
  },
  {
   "cell_type": "code",
   "execution_count": 2,
   "metadata": {},
   "outputs": [
    {
     "name": "stdout",
     "output_type": "stream",
     "text": [
      "['apple', 'banana']\n"
     ]
    }
   ],
   "source": [
    "fruit = [\"apple\", \"banana\"]\n",
    "\n",
    "def shopping_list():\n",
    "    fruit = [\"apple\", \"banana\", \"grapes\"]\n",
    "\n",
    "shopping_list()\n",
    "print(fruit)"
   ]
  },
  {
   "cell_type": "code",
   "execution_count": 4,
   "metadata": {},
   "outputs": [
    {
     "name": "stdout",
     "output_type": "stream",
     "text": [
      "['apple', 'banana', 'grapes']\n"
     ]
    }
   ],
   "source": [
    "fruit = [\"apple\", \"banana\"]\n",
    "\n",
    "def shopping_list():\n",
    "    global fruit\n",
    "    fruit = [\"apple\", \"banana\", \"grapes\"]\n",
    "\n",
    "shopping_list()\n",
    "print(fruit)"
   ]
  },
  {
   "cell_type": "markdown",
   "metadata": {},
   "source": [
    "Positions Parameter"
   ]
  },
  {
   "cell_type": "code",
   "execution_count": 7,
   "metadata": {},
   "outputs": [
    {
     "ename": "TypeError",
     "evalue": "print_args() got some positional-only arguments passed as keyword arguments: 'a, b'",
     "output_type": "error",
     "traceback": [
      "\u001b[0;31m---------------------------------------------------------------------------\u001b[0m",
      "\u001b[0;31mTypeError\u001b[0m                                 Traceback (most recent call last)",
      "Cell \u001b[0;32mIn [7], line 21\u001b[0m\n\u001b[1;32m      2\u001b[0m     \u001b[39mprint\u001b[39m(a, b, c, d, e, f)\n\u001b[1;32m      4\u001b[0m \u001b[39m#print_args(1, 2, 3, 4, e=5, f=6)\u001b[39;00m\n\u001b[1;32m      5\u001b[0m \n\u001b[1;32m      6\u001b[0m \u001b[39m# 1 2 3 4 5 6\u001b[39;00m\n\u001b[0;32m   (...)\u001b[0m\n\u001b[1;32m     17\u001b[0m \n\u001b[1;32m     18\u001b[0m \u001b[39m# TypeError: print_args() got some positional-only arguments passed as keyword arguments: 'c, d'\u001b[39;00m\n\u001b[0;32m---> 21\u001b[0m print_args(a\u001b[39m=\u001b[39;49m\u001b[39m1\u001b[39;49m, b\u001b[39m=\u001b[39;49m\u001b[39m2\u001b[39;49m, c\u001b[39m=\u001b[39;49m\u001b[39m3\u001b[39;49m, d\u001b[39m=\u001b[39;49m\u001b[39m4\u001b[39;49m, f\u001b[39m=\u001b[39;49m\u001b[39m5\u001b[39;49m, e\u001b[39m=\u001b[39;49m\u001b[39m6\u001b[39;49m)\n",
      "\u001b[0;31mTypeError\u001b[0m: print_args() got some positional-only arguments passed as keyword arguments: 'a, b'"
     ]
    }
   ],
   "source": [
    "def print_args(a, b, /, c, d, *, e, f):\n",
    "    print(a, b, c, d, e, f)\n",
    "\n",
    "print_args(1, 2, 3, 4, e=5, f=6)\n",
    "\n",
    "# 1 2 3 4 5 6\n",
    "\n",
    "print_args(1, 2, c=3, d=4, e=5, f=6)\n",
    "\n",
    "# 1 2 3 4 5 6\n",
    "\n",
    "print_args(1, 2, 3, 4, 5, 6)\n",
    "\n",
    "# TypeError: print_args() takes 4 positional arguments but 6 were given\n",
    "\n",
    "print_args(a=1, b=2, c=3, d=4, f=5, e=6)\n",
    "\n",
    "# TypeError: print_args() got some positional-only arguments passed as keyword arguments: 'a, b'"
   ]
  },
  {
   "cell_type": "markdown",
   "metadata": {},
   "source": [
    "Recursion"
   ]
  },
  {
   "cell_type": "code",
   "execution_count": 3,
   "metadata": {},
   "outputs": [
    {
     "name": "stdout",
     "output_type": "stream",
     "text": [
      "100\n"
     ]
    }
   ],
   "source": [
    "import sys\n",
    "sys.setrecursionlimit(100)\n",
    "print(sys.getrecursionlimit())\n"
   ]
  },
  {
   "cell_type": "code",
   "execution_count": 4,
   "metadata": {},
   "outputs": [
    {
     "name": "stdout",
     "output_type": "stream",
     "text": [
      "Depth 1\n",
      "Depth 2\n",
      "Depth 3\n",
      "Depth 4\n",
      "Depth 5\n",
      "Depth 6\n",
      "Depth 7\n",
      "Depth 8\n",
      "Depth 9\n",
      "Depth 10\n",
      "Depth 11\n",
      "Depth 12\n",
      "Depth 13\n",
      "Depth 14\n",
      "Depth 15\n",
      "Depth 16\n",
      "Depth 17\n",
      "Depth 18\n",
      "Depth 19\n",
      "Depth 20\n",
      "Depth 21\n",
      "Depth 22\n",
      "Depth 23\n",
      "Depth 24\n",
      "Depth 25\n",
      "Depth 26\n",
      "Depth 27\n",
      "Depth 28\n",
      "Depth 29\n",
      "Depth 30\n",
      "Depth 31\n",
      "Depth 32\n",
      "Depth 33\n",
      "Depth 34\n",
      "Depth 35\n",
      "Depth 36\n",
      "Depth 37\n",
      "Depth 38\n",
      "Depth 39\n",
      "Depth 40\n",
      "Depth 41\n",
      "Depth 42\n",
      "Depth 43\n",
      "Depth 44\n",
      "Depth 45\n",
      "Depth 46\n",
      "Depth 47\n",
      "Depth 48\n",
      "Depth 49\n",
      "Depth 50\n",
      "Depth 51\n",
      "Depth 52\n",
      "Depth 53\n",
      "Depth 54\n",
      "Depth 55\n",
      "Depth 56\n",
      "Depth 57\n",
      "Depth 58\n",
      "Depth 59\n",
      "Depth 60\n",
      "Depth 61\n",
      "Depth 62\n",
      "Depth 63\n",
      "Depth 64\n",
      "Depth 65\n",
      "Depth 66\n",
      "Depth 67\n",
      "Depth 68\n",
      "Depth 69\n",
      "Unexpected exception formatting exception. Falling back to standard exception\n"
     ]
    },
    {
     "name": "stderr",
     "output_type": "stream",
     "text": [
      "Traceback (most recent call last):\n",
      "  File \"/usr/local/pip-global/IPython/core/interactiveshell.py\", line 3433, in run_code\n",
      "    exec(code_obj, self.user_global_ns, self.user_ns)\n",
      "  File \"/tmp/ipykernel_909/3334560587.py\", line 6, in <module>\n",
      "    print(recurese(1))\n",
      "  File \"/tmp/ipykernel_909/3334560587.py\", line 4, in recurese\n",
      "    recurese(counter)\n",
      "  File \"/tmp/ipykernel_909/3334560587.py\", line 4, in recurese\n",
      "    recurese(counter)\n",
      "  File \"/tmp/ipykernel_909/3334560587.py\", line 4, in recurese\n",
      "    recurese(counter)\n",
      "  [Previous line repeated 66 more times]\n",
      "  File \"/tmp/ipykernel_909/3334560587.py\", line 2, in recurese\n",
      "    print(\"Depth\", counter)\n",
      "  File \"/usr/local/pip-global/ipykernel/iostream.py\", line 550, in write\n",
      "    is_child = not self._is_master_process()\n",
      "  File \"/usr/local/pip-global/ipykernel/iostream.py\", line 438, in _is_master_process\n",
      "    return os.getpid() == self._master_pid\n",
      "RecursionError: maximum recursion depth exceeded while calling a Python object\n",
      "\n",
      "During handling of the above exception, another exception occurred:\n",
      "\n",
      "Traceback (most recent call last):\n",
      "  File \"/usr/local/pip-global/pygments/lexer.py\", line 498, in _process_state\n",
      "    rex = cls._process_regex(tdef[0], rflags, state)\n",
      "  File \"/usr/local/pip-global/pygments/lexer.py\", line 426, in _process_regex\n",
      "    regex = regex.get()\n",
      "  File \"/usr/local/pip-global/pygments/lexer.py\", line 414, in get\n",
      "    return regex_opt(self.words, prefix=self.prefix, suffix=self.suffix)\n",
      "  File \"/usr/local/pip-global/pygments/regexopt.py\", line 91, in regex_opt\n",
      "    return prefix + regex_opt_inner(strings, '(') + suffix\n",
      "  File \"/usr/local/pip-global/pygments/regexopt.py\", line 77, in regex_opt_inner\n",
      "    '|'.join(regex_opt_inner(list(group[1]), '')\n",
      "  File \"/usr/local/pip-global/pygments/regexopt.py\", line 77, in <genexpr>\n",
      "    '|'.join(regex_opt_inner(list(group[1]), '')\n",
      "  File \"/usr/local/pip-global/pygments/regexopt.py\", line 77, in regex_opt_inner\n",
      "    '|'.join(regex_opt_inner(list(group[1]), '')\n",
      "  File \"/usr/local/pip-global/pygments/regexopt.py\", line 77, in <genexpr>\n",
      "    '|'.join(regex_opt_inner(list(group[1]), '')\n",
      "  File \"/usr/local/pip-global/pygments/regexopt.py\", line 77, in regex_opt_inner\n",
      "    '|'.join(regex_opt_inner(list(group[1]), '')\n",
      "  File \"/usr/local/pip-global/pygments/regexopt.py\", line 77, in <genexpr>\n",
      "    '|'.join(regex_opt_inner(list(group[1]), '')\n",
      "  File \"/usr/local/pip-global/pygments/regexopt.py\", line 77, in regex_opt_inner\n",
      "    '|'.join(regex_opt_inner(list(group[1]), '')\n",
      "  File \"/usr/local/pip-global/pygments/regexopt.py\", line 77, in <genexpr>\n",
      "    '|'.join(regex_opt_inner(list(group[1]), '')\n",
      "  File \"/usr/local/pip-global/pygments/regexopt.py\", line 77, in regex_opt_inner\n",
      "    '|'.join(regex_opt_inner(list(group[1]), '')\n",
      "  File \"/usr/local/pip-global/pygments/regexopt.py\", line 77, in <genexpr>\n",
      "    '|'.join(regex_opt_inner(list(group[1]), '')\n",
      "  File \"/usr/local/pip-global/pygments/regexopt.py\", line 77, in regex_opt_inner\n",
      "    '|'.join(regex_opt_inner(list(group[1]), '')\n",
      "  File \"/usr/local/pip-global/pygments/regexopt.py\", line 77, in <genexpr>\n",
      "    '|'.join(regex_opt_inner(list(group[1]), '')\n",
      "  File \"/usr/local/pip-global/pygments/regexopt.py\", line 77, in regex_opt_inner\n",
      "    '|'.join(regex_opt_inner(list(group[1]), '')\n",
      "  File \"/usr/local/pip-global/pygments/regexopt.py\", line 77, in <genexpr>\n",
      "    '|'.join(regex_opt_inner(list(group[1]), '')\n",
      "  File \"/usr/local/pip-global/pygments/regexopt.py\", line 77, in regex_opt_inner\n",
      "    '|'.join(regex_opt_inner(list(group[1]), '')\n",
      "  File \"/usr/local/pip-global/pygments/regexopt.py\", line 77, in <genexpr>\n",
      "    '|'.join(regex_opt_inner(list(group[1]), '')\n",
      "  File \"/usr/local/pip-global/pygments/regexopt.py\", line 77, in regex_opt_inner\n",
      "    '|'.join(regex_opt_inner(list(group[1]), '')\n",
      "  File \"/usr/local/pip-global/pygments/regexopt.py\", line 77, in <genexpr>\n",
      "    '|'.join(regex_opt_inner(list(group[1]), '')\n",
      "  File \"/usr/local/pip-global/pygments/regexopt.py\", line 77, in regex_opt_inner\n",
      "    '|'.join(regex_opt_inner(list(group[1]), '')\n",
      "  File \"/usr/local/pip-global/pygments/regexopt.py\", line 77, in <genexpr>\n",
      "    '|'.join(regex_opt_inner(list(group[1]), '')\n",
      "  File \"/usr/local/pip-global/pygments/regexopt.py\", line 77, in regex_opt_inner\n",
      "    '|'.join(regex_opt_inner(list(group[1]), '')\n",
      "  File \"/usr/local/pip-global/pygments/regexopt.py\", line 77, in <genexpr>\n",
      "    '|'.join(regex_opt_inner(list(group[1]), '')\n",
      "  File \"/usr/local/pip-global/pygments/regexopt.py\", line 77, in regex_opt_inner\n",
      "    '|'.join(regex_opt_inner(list(group[1]), '')\n",
      "  File \"/usr/local/pip-global/pygments/regexopt.py\", line 77, in <genexpr>\n",
      "    '|'.join(regex_opt_inner(list(group[1]), '')\n",
      "  File \"/usr/local/pip-global/pygments/regexopt.py\", line 77, in regex_opt_inner\n",
      "    '|'.join(regex_opt_inner(list(group[1]), '')\n",
      "  File \"/usr/local/pip-global/pygments/regexopt.py\", line 77, in <genexpr>\n",
      "    '|'.join(regex_opt_inner(list(group[1]), '')\n",
      "  File \"/usr/local/pip-global/pygments/regexopt.py\", line 77, in regex_opt_inner\n",
      "    '|'.join(regex_opt_inner(list(group[1]), '')\n",
      "  File \"/usr/local/pip-global/pygments/regexopt.py\", line 77, in <genexpr>\n",
      "    '|'.join(regex_opt_inner(list(group[1]), '')\n",
      "  File \"/usr/local/pip-global/pygments/regexopt.py\", line 63, in regex_opt_inner\n",
      "    + regex_opt_inner([s[plen:] for s in strings], '(?:') \\\n",
      "  File \"/usr/local/pip-global/pygments/regexopt.py\", line 77, in regex_opt_inner\n",
      "    '|'.join(regex_opt_inner(list(group[1]), '')\n",
      "  File \"/usr/local/pip-global/pygments/regexopt.py\", line 77, in <genexpr>\n",
      "    '|'.join(regex_opt_inner(list(group[1]), '')\n",
      "  File \"/usr/local/pip-global/pygments/regexopt.py\", line 77, in regex_opt_inner\n",
      "    '|'.join(regex_opt_inner(list(group[1]), '')\n",
      "  File \"/usr/local/pip-global/pygments/regexopt.py\", line 77, in <genexpr>\n",
      "    '|'.join(regex_opt_inner(list(group[1]), '')\n",
      "  File \"/usr/local/pip-global/pygments/regexopt.py\", line 77, in regex_opt_inner\n",
      "    '|'.join(regex_opt_inner(list(group[1]), '')\n",
      "  File \"/usr/local/pip-global/pygments/regexopt.py\", line 77, in <genexpr>\n",
      "    '|'.join(regex_opt_inner(list(group[1]), '')\n",
      "  File \"/usr/local/pip-global/pygments/regexopt.py\", line 36, in regex_opt_inner\n",
      "    return open_paren + escape(first) + close_paren\n",
      "  File \"/usr/local/lib/python3.9/re.py\", line 275, in escape\n",
      "    return pattern.translate(_special_chars_map)\n",
      "RecursionError: maximum recursion depth exceeded while calling a Python object\n",
      "\n",
      "The above exception was the direct cause of the following exception:\n",
      "\n",
      "Traceback (most recent call last):\n",
      "  File \"/usr/local/pip-global/IPython/core/interactiveshell.py\", line 2052, in showtraceback\n",
      "    stb = self.InteractiveTB.structured_traceback(\n",
      "  File \"/usr/local/pip-global/IPython/core/ultratb.py\", line 1112, in structured_traceback\n",
      "    return FormattedTB.structured_traceback(\n",
      "  File \"/usr/local/pip-global/IPython/core/ultratb.py\", line 1006, in structured_traceback\n",
      "    return VerboseTB.structured_traceback(\n",
      "  File \"/usr/local/pip-global/IPython/core/ultratb.py\", line 859, in structured_traceback\n",
      "    formatted_exception = self.format_exception_as_a_whole(etype, evalue, etb, number_of_lines_of_context,\n",
      "  File \"/usr/local/pip-global/IPython/core/ultratb.py\", line 812, in format_exception_as_a_whole\n",
      "    frames.append(self.format_record(r))\n",
      "  File \"/usr/local/pip-global/IPython/core/ultratb.py\", line 730, in format_record\n",
      "    result += ''.join(_format_traceback_lines(frame_info.lines, Colors, self.has_colors, lvals))\n",
      "  File \"/usr/local/pip-global/IPython/core/ultratb.py\", line 155, in _format_traceback_lines\n",
      "    line = stack_line.render(pygmented=has_colors).rstrip('\\n') + '\\n'\n",
      "  File \"/usr/local/pip-global/stack_data/core.py\", line 377, in render\n",
      "    start_line, lines = self.frame_info._pygmented_scope_lines\n",
      "  File \"/usr/local/pip-global/stack_data/utils.py\", line 144, in cached_property_wrapper\n",
      "    value = obj.__dict__[self.func.__name__] = self.func(obj)\n",
      "  File \"/usr/local/pip-global/stack_data/core.py\", line 810, in _pygmented_scope_lines\n",
      "    lines = _pygmented_with_ranges(formatter, code, ranges)\n",
      "  File \"/usr/local/pip-global/stack_data/utils.py\", line 163, in _pygmented_with_ranges\n",
      "    lexer = MyLexer(stripnl=False)\n",
      "  File \"/usr/local/pip-global/pygments/lexer.py\", line 580, in __call__\n",
      "    cls._tokens = cls.process_tokendef('', cls.get_tokendefs())\n",
      "  File \"/usr/local/pip-global/pygments/lexer.py\", line 519, in process_tokendef\n",
      "    cls._process_state(tokendefs, processed, state)\n",
      "  File \"/usr/local/pip-global/pygments/lexer.py\", line 482, in _process_state\n",
      "    tokens.extend(cls._process_state(unprocessed, processed,\n",
      "  File \"/usr/local/pip-global/pygments/lexer.py\", line 482, in _process_state\n",
      "    tokens.extend(cls._process_state(unprocessed, processed,\n",
      "  File \"/usr/local/pip-global/pygments/lexer.py\", line 500, in _process_state\n",
      "    raise ValueError(\"uncompilable regex %r in state %r of %r: %s\" %\n",
      "ValueError: uncompilable regex <pygments.lexer.words object at 0x7fb1527b7fd0> in state 'builtins' of <class 'stack_data.utils._pygmented_with_ranges.<locals>.MyLexer'>: maximum recursion depth exceeded while calling a Python object\n"
     ]
    }
   ],
   "source": [
    "def recurese(counter):\n",
    "    print(\"Depth\", counter)\n",
    "    counter += 1\n",
    "    recurese(counter)\n",
    "\n",
    "print(recurese(1))"
   ]
  },
  {
   "cell_type": "code",
   "execution_count": 9,
   "metadata": {},
   "outputs": [
    {
     "data": {
      "text/plain": [
       "2"
      ]
     },
     "execution_count": 9,
     "metadata": {},
     "output_type": "execute_result"
    }
   ],
   "source": [
    "dp = [-1 for i in range(10)]\n",
    "\n",
    "def fib_dyn(n):\n",
    "    if(n<= 1):\n",
    "        return n;\n",
    "    \n",
    "    global dp;\n",
    "\n",
    "    first = 0;\n",
    "    second = 0;\n",
    "\n",
    "    if (dp[n-1] != -1):\n",
    "        first = dp[n-1]\n",
    "    else:\n",
    "        first = fib_dyn(n-1);\n",
    "    \n",
    "    if (dp[n-2] != -1):\n",
    "        second = dp[n-2]\n",
    "    else:\n",
    "        second = fib_dyn(n-2)\n",
    "    \n",
    "    dp[n] = first + second\n",
    "\n",
    "    return dp[n]\n",
    "\n",
    "fib_dyn(3)"
   ]
  }
 ],
 "metadata": {
  "kernelspec": {
   "display_name": "Python 3.9.13 64-bit",
   "language": "python",
   "name": "python3"
  },
  "language_info": {
   "codemirror_mode": {
    "name": "ipython",
    "version": 3
   },
   "file_extension": ".py",
   "mimetype": "text/x-python",
   "name": "python",
   "nbconvert_exporter": "python",
   "pygments_lexer": "ipython3",
   "version": "3.9.15"
  },
  "orig_nbformat": 4,
  "vscode": {
   "interpreter": {
    "hash": "949777d72b0d2535278d3dc13498b2535136f6dfe0678499012e853ee9abcab1"
   }
  }
 },
 "nbformat": 4,
 "nbformat_minor": 2
}
